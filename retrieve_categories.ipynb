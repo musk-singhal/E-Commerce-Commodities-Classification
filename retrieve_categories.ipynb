{
 "cells": [
  {
   "cell_type": "markdown",
   "metadata": {},
   "source": [
    "### TASK-3 NLP \n",
    "\n",
    "<br><b>Filename: <font color='red'>retrieve_categories.ipynb</font></b> ---> defines the function retrieve_primary_categories(), that splits the category tree and only keeps the level-0 i.e. primary attribute value for each record in the dataset. This updated dataset is then returned to the calling function for further operations of the pipeline.\n",
    "<hr/>\n",
    "This notebook specifies a single function retrieve_primary_categories() that accept the dataset as a parameter \n",
    "and returns its updated form back to the calling function.\n",
    "<hr/>\n",
    "    <b>NOTE:</b> Parts of code in multi-line comments were for checking intermediate results."
   ]
  },
  {
   "cell_type": "markdown",
   "metadata": {},
   "source": [
    "### CELL #1: importing required modules"
   ]
  },
  {
   "cell_type": "code",
   "execution_count": 3,
   "metadata": {},
   "outputs": [],
   "source": [
    "import pandas as pd\n",
    "import numpy as np\n",
    "import re\n",
    "from collections import Counter"
   ]
  },
  {
   "cell_type": "markdown",
   "metadata": {},
   "source": [
    "### CELL #2: defining retrieve_primary_categories()\n",
    "\n",
    "<b>ABOUT:</b>The sequential flow of operations in this function are as follows:\n",
    "<ol>\n",
    "    <li>Create an empty list <b>'categories'</b> to store the primary categories identified in the dataset.</li>\n",
    "    <li>Create an empty list <b>'noTree'</b> to store categories with no more than one level of product category tree.</li>\n",
    "    <li>For each record in the dataset:\n",
    "    <ol>\n",
    "        <li>Get the category tree value</li>\n",
    "        <li>Replace multiple spaces with single spaces using regex</li>\n",
    "        <li>Filter out special characters other than '>'</li>\n",
    "        <li>Convert the current value entirely to lowercase</li>\n",
    "        <li>Split the string on ' >> ' i.e. including one space before '>>' and after '>>' </li>\n",
    "        <li>If size of split is 1, then update 'noTree', else update 'categories'.</li>\n",
    "        <li>Update the category attribute of each record with its primary category value, irrespective of whether it is 'noTree' or 'category' type.</li>\n",
    "    </ol>\n",
    "    </li>\n",
    "    <li>Remove noTree records from the dataset</li>\n",
    "    <li>Return the updated dataset and the list of primary categories being considered.</li>\n",
    "</ol>    "
   ]
  },
  {
   "cell_type": "code",
   "execution_count": 4,
   "metadata": {},
   "outputs": [],
   "source": [
    "def retrieve_primary_categories(df):\n",
    "    categories = []  #---------------------------------------------------------------------- STEP-1\n",
    "    no_tree_count = 0\n",
    "    noTree=[]  #---------------------------------------------------------------------------- STEP-2\n",
    "    print(len(df))\n",
    "    for i in range(len(df)): #------------------------------------------------------ STEP-3 STARTS HERE\n",
    "        \n",
    "        s = df.loc[i,'cat'] # ------------------3 A)\n",
    "        \n",
    "        s = re.sub('\\s+',' ',s) # --------------3 B)\n",
    "        \n",
    "        s = \"\".join(e for e in s if e.isalnum() or e==\">\" or e==' ') #--------- 3 C)\n",
    "        \n",
    "        s = s.lower()# ---------------3 D)\n",
    "        '''print(s)'''\n",
    "        \n",
    "        v = s.split(\" >> \") #----------------- 3 E)\n",
    "        \n",
    "        #----------------------------- 3 F) BEGINS HERE\n",
    "        if len(v)==1:\n",
    "            no_tree_count = no_tree_count+1\n",
    "            '''print(v)'''\n",
    "            if(v[0]) not in noTree:\n",
    "                #print(v[0])\n",
    "                noTree.append(v[0])\n",
    "        elif v[0] not in categories:\n",
    "            categories.append(v[0])\n",
    "        #----------------------------- 3 F) ENDS HERE\n",
    "        \n",
    "        df.loc[i,'cat'] = v[0] # --------------------- 3 G)\n",
    "        \n",
    "    '''print(\"NoTreeCount = \",no_tree_count)\n",
    "    print(\"Unique no tree =\",Counter(noTree))\n",
    "    print(\"Categories: \",Counter(categories))'''\n",
    "    \n",
    "    # ----------------------------------------------------------------------- STEP - 4 BEGINS HERE\n",
    "    \n",
    "    omit = []\n",
    "    for i in range(len(df)):\n",
    "        if not df.loc[i,'cat'] in categories:\n",
    "            #print(\"------\" , df.loc[i,'cat'])\n",
    "            omit.append(i)\n",
    "   \n",
    "    \n",
    "    '''print(\"Length of omit: \",len(omit))'''\n",
    "    \n",
    "    df.drop(index=omit,inplace=True)\n",
    "    df = df.reset_index(drop=True)     \n",
    "    \n",
    "    # ----------------------------------------------------------------------- STEP - 4 ENDS HERE\n",
    "    print(\"New size of the df: \",len(df))\n",
    "    print(\"Categories: \",categories)\n",
    "    #print(categories)\n",
    "    print(\"------- IDENTIFIED PRIMARY CATEGORIES ...\")\n",
    "    \n",
    "    return df,categories  # ------------------------------------------------- STEP - 5\n",
    "    "
   ]
  },
  {
   "cell_type": "code",
   "execution_count": null,
   "metadata": {},
   "outputs": [],
   "source": []
  }
 ],
 "metadata": {
  "kernelspec": {
   "display_name": "Python 3",
   "language": "python",
   "name": "python3"
  },
  "language_info": {
   "codemirror_mode": {
    "name": "ipython",
    "version": 3
   },
   "file_extension": ".py",
   "mimetype": "text/x-python",
   "name": "python",
   "nbconvert_exporter": "python",
   "pygments_lexer": "ipython3",
   "version": "3.8.8"
  }
 },
 "nbformat": 4,
 "nbformat_minor": 4
}
