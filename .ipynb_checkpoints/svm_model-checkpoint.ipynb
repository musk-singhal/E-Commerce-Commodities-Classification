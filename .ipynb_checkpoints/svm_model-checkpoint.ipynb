{
 "cells": [
  {
   "cell_type": "markdown",
   "metadata": {},
   "source": [
    "### TASK-3 NLP \n",
    "\n",
    "<br><b>Filename: <font color='red'>svm_model.ipynb</font></b> ---> defines the implementation pipeline from splitting the dataset into train and test sets( input features and output labels rspectively for each ) and predicting the labels of records in test using the SVM model defined over the training set.\n",
    "<hr/>\n",
    "This notebook specifies the following functions: ( the sequence of description is same as the sequence of their definition in the notebook cells below )\n",
    "<ol>\n",
    "    <li><b>feed_to_svm( x,y,x_test ): </b> Given the training set features 'x' and training set output labels 'y', an SVM model 'model' is defined which isthen deployed over the test set features 'x_test' in order to generate the output labels.</li>\n",
    "    <li><b>make_train_test_sets( x,y ):</b> Given the dataset features for each record stored in 'x' and their corresponding labels in 'y', this function splits them into training and test sets as per the split size passed as parameter to the pre-defined scikit-learn split function</li>\n",
    "    <li><b>svm_main( x,Y,categories ):</b> The driver function for the SVM model implementation pipeline. This function accepts the dataset pre-bifurcated into features and labels, then follows by splitting them into train and test sets and predicting test set results using the functions described above.</li>\n",
    "</ol>\n",
    "<b>NOTE:</b>Training set features or test set features refer to the 50-dimensional feature representation (obtained in compute_embeddings.ipynb) for each preprocessed dataset record description. The labels refer to their respective primary categories.\n",
    "\n"
   ]
  },
  {
   "cell_type": "markdown",
   "metadata": {},
   "source": [
    "### CELL #1: importing required modules"
   ]
  },
  {
   "cell_type": "code",
   "execution_count": 2,
   "metadata": {},
   "outputs": [],
   "source": [
    "from ipynb.fs.full.bag_of_words import *\n",
    "import numpy as np\n",
    "import pandas as pd\n",
    "import re\n",
    "import scipy as sp\n",
    "from sklearn import svm\n",
    "from sklearn.model_selection import train_test_split"
   ]
  },
  {
   "cell_type": "markdown",
   "metadata": {},
   "source": [
    "### CELL #2: defining feed_to_svm( x,y,x_test ):\n",
    "<br>Function description in the top cell\n",
    "<br>This function does the following sequence of operations:\n",
    "<ol>\n",
    "    <li>Define an SVM model</li>\n",
    "    <li>Fit the SVM according to the given training data features.</li>\n",
    "    <li>Compute the labels for records in test set.</li>\n",
    "    <li>Return these computed results</li>\n",
    "</ol>"
   ]
  },
  {
   "cell_type": "code",
   "execution_count": null,
   "metadata": {},
   "outputs": [],
   "source": [
    "def feed_to_svm(x,y,x_test):\n",
    "    \n",
    "    model = svm.SVC() #--------------------------------------- STEP-1\n",
    "    \n",
    "    model.fit(x, y) #--------------------------------------- STEP-2\n",
    "    \n",
    "    r = model.predict(x_test) #--------------------------------------- STEP-3\n",
    "    \n",
    "    return r #--------------------------------------- STEP-4"
   ]
  },
  {
   "cell_type": "markdown",
   "metadata": {},
   "source": [
    "### CELL #3: defining make_train_test_split( x,y ):\n",
    "<br>Function description in the top cell\n",
    "<br>This function does the following sequence of operations:\n",
    "<ol>\n",
    "    <li>Store the train set features and their corresponding labels in a single dataframe.</li>\n",
    "    <li>Split the dataframe into train and test dataframes using sklearn function</li>\n",
    "    <li>Reset indices in train and test indices</li>\n",
    "    <li>Return train set features, train set labels, test set features and test set labels.</li>\n",
    "</ol>"
   ]
  },
  {
   "cell_type": "code",
   "execution_count": null,
   "metadata": {},
   "outputs": [],
   "source": [
    "def make_train_test_sets(x,y):\n",
    "    \n",
    "    #--------------------------------------- STEP-1 STARTS HERE\n",
    "    \n",
    "    df=pd.DataFrame()\n",
    "    df['x'] = x\n",
    "    df['y'] = y\n",
    "    \n",
    "    #--------------------------------------- STEP-1 ENDS HERE\n",
    "    \n",
    "    train, test = train_test_split(df, test_size=0.10, shuffle=True) #----------------------- STEP-2\n",
    "    \n",
    "    #--------------------------------------- STEP-3 STARTS HERE\n",
    "    \n",
    "    train = train.reset_index(drop=True)\n",
    "    test = test.reset_index(drop=True)\n",
    "    \n",
    "    #--------------------------------------- STEP-3 ENDS HERE\n",
    "    \n",
    "    '''print(\"----------- TRAIN SET ----------\")\n",
    "    print(len(train))\n",
    "    print(train)\n",
    "    print(\"----------- TEST SET ----------\")\n",
    "    print(len(test))\n",
    "    print(test)'''\n",
    "    return train['x'],train['y'].tolist(),test['x'],test['y'].tolist() #------------------------ STEP-4\n"
   ]
  },
  {
   "cell_type": "markdown",
   "metadata": {},
   "source": [
    "### CELL #4: defining svm_main( x,Y,categories ):\n",
    "<br>The driver function for the SVM model implementation pipeline\n",
    "<br>Function description in the top cell\n",
    "<br>This function does the following sequence of operations:\n",
    "<ol>\n",
    "    <li>Create 2 lists 'l' and 'l_test' to store the train and test set labels.</li>\n",
    "    <li>Sanity check the records whether their categories are the primary categories shortlisting for the task :)</li>\n",
    "    <li>Call make_train_test_sets() to split the dataset into train and test sets.</li>\n",
    "    <li>Pass the training set and test set features to feed_to_svm() model</li>\n",
    "    <li>Prepare the results and store in a CSV file svm_results.csv</li>\n",
    "</ol>"
   ]
  },
  {
   "cell_type": "code",
   "execution_count": null,
   "metadata": {},
   "outputs": [],
   "source": [
    "def svm_main(x,Y,categories):\n",
    "    '''print(\"========================= BEFORE: \")\n",
    "    print(len(x))\n",
    "    print(len(Y))'''\n",
    "    #print(x)\n",
    "    #print(Y)\n",
    "    \n",
    "    print(\"----------------------------------- SVM MODEL STARTS.....\")\n",
    "    \n",
    "    #--------------------------------------- STEP-1 STARTS HERE\n",
    "    l=[]\n",
    "    l_test = []\n",
    "    #--------------------------------------- STEP-1 STARTS HERE\n",
    "    \n",
    "    y = []\n",
    "    \n",
    "    #--------------------------------------- STEP-2 STARTS HERE\n",
    "    for i in range(len(Y)):\n",
    "        for j in range(len(categories)):\n",
    "            if categories[j] == Y[i]:\n",
    "                y.append(j)\n",
    "    #--------------------------------------- STEP-2 ENDS HERE\n",
    "    \n",
    "    '''print(\"========================== AFTER: \")\n",
    "    print(len(x))\n",
    "    print(len(Y))'''\n",
    "    \n",
    "    y = np.array(y)\n",
    "    \n",
    "    x,y,test_x,test_y = make_train_test_sets(x.tolist(),y.tolist()) #-------------- STEP-3\n",
    "    \n",
    "    #--------------------------------------- POPULATING THE LABEL LISTS\n",
    "    for i in range(len(x)):\n",
    "        #print(\"i = \",i)\n",
    "        l.append(x[i].tolist())\n",
    "    for i in range(len(test_x)):\n",
    "        l_test.append(test_x[i].tolist())\n",
    "    #---------------------------------------\n",
    "    \n",
    "    X = np.array(l)\n",
    "    y = np.array(y)\n",
    "    x_test = np.array(l_test)\n",
    "    \n",
    "    r = feed_to_svm(X,y,x_test) #--------------------------------------- STEP-4\n",
    "    \n",
    "    #print(\"r: \",type(r))\n",
    "    \n",
    "    #--------------------------------------- STEP-5 STARTS HERE\n",
    "    r = r.tolist()\n",
    "    results = pd.DataFrame(columns=['actual','predicted'])\n",
    "    results['actual'] = test_y\n",
    "    results['predicted'] = r\n",
    "    results.to_csv(\"output_files/svm_results.csv\",index=True)\n",
    "    \n",
    "    print(\"----------------------------------- SVM MODEL ENDS.....\")\n",
    "    return results\n",
    "    \n",
    "    #--------------------------------------- STEP-5 ENDS HERE"
   ]
  }
 ],
 "metadata": {
  "kernelspec": {
   "display_name": "Python 3",
   "language": "python",
   "name": "python3"
  },
  "language_info": {
   "codemirror_mode": {
    "name": "ipython",
    "version": 3
   },
   "file_extension": ".py",
   "mimetype": "text/x-python",
   "name": "python",
   "nbconvert_exporter": "python",
   "pygments_lexer": "ipython3",
   "version": "3.8.8"
  }
 },
 "nbformat": 4,
 "nbformat_minor": 4
}
