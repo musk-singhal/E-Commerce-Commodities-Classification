{
 "cells": [
  {
   "cell_type": "markdown",
   "metadata": {},
   "source": [
    "# <font color='red'>feature_selection.ipynb</font>\n",
    "\n",
    "<br><b>Filename: feature_selection.ipynb</b> ---> <font color='purple'>defines the function perform_feature_selection( name_of_dataset ), that shortlists the most appropriate attributes from the givendataset.</font>\n",
    "<hr/>\n",
    "This notebook specifies a single function perform_feature_selection( name_of_dataset ) that explicitly access the dataset with  <b>R rows and N columns</b> and returns a subset <b> R x N' (N' < N) </b> dataframe to the calling function.\n",
    "<hr/>"
   ]
  },
  {
   "cell_type": "markdown",
   "metadata": {},
   "source": [
    "### CELL #1: importing required modules"
   ]
  },
  {
   "cell_type": "code",
   "execution_count": null,
   "metadata": {},
   "outputs": [],
   "source": [
    "import numpy as np\n",
    "import pandas as pd\n",
    "import re"
   ]
  },
  {
   "cell_type": "markdown",
   "metadata": {},
   "source": [
    "### CELL #2: defining perform_feature_selection(name_of_dataset)\n",
    "\n",
    "<b>ABOUT:</b> The sequential flow of operations in the following functions are as follows:\n",
    "<ol>\n",
    "    <li>Access the required dataset in CSV format and store in a dataframe</li>\n",
    "    <li>Store the required and important attributes as separate series of values.</li>\n",
    "    <li>Initialize a new dataframe fs_data to contain the above shortlisted attributes.</li>\n",
    "    <li>Return this dataframe to the calling function</li>\n",
    "</ol>"
   ]
  },
  {
   "cell_type": "code",
   "execution_count": 14,
   "metadata": {},
   "outputs": [],
   "source": [
    "#not passing df to the method as it's explicit to use the given file in this case, thus collecting data within the method\n",
    "#uncomment multi-line commented code to check intermediate results\n",
    "\n",
    "def perform_feature_selection(name_of_dataset):\n",
    "    \n",
    "    data = pd.read_csv(\"dataset/\"+name_of_dataset , encoding='utf-8') #--------- STEP - 1\n",
    "    \n",
    "    print(\"-------- DATA RETRIEVED ....\")\n",
    "\n",
    "    #-------------------------------------------------------------------- STEP-2 STARTS HERE\n",
    "    name = data['product_name']\n",
    "    cat = data['product_category_tree']\n",
    "    pid = data['pid']\n",
    "    description = data['description']\n",
    "    brand = data['brand']\n",
    "    #-------------------------------------------------------------------- STEP-2 ENDS HERE\n",
    "    \n",
    "    #-------------------------------------------------------------------- STEP-3 STARTS HERE\n",
    "    fs_data = pd.DataFrame(columns=['pid','name','brand','cat','description'])\n",
    "    fs_data['pid'] = pid\n",
    "    fs_data['name'] = name\n",
    "    fs_data['brand'] = brand\n",
    "    fs_data['cat'] = cat\n",
    "    fs_data['description'] = description\n",
    "    #-------------------------------------------------------------------- STEP-3 ENDS HERE\n",
    "    \n",
    "    print(\"---------- FEATURE SELECTION COMPLETED .....\")\n",
    "    \n",
    "    return fs_data #----------------------------------------------------- STEP-4"
   ]
  }
 ],
 "metadata": {
  "kernelspec": {
   "display_name": "Python 3",
   "language": "python",
   "name": "python3"
  },
  "language_info": {
   "codemirror_mode": {
    "name": "ipython",
    "version": 3
   },
   "file_extension": ".py",
   "mimetype": "text/x-python",
   "name": "python",
   "nbconvert_exporter": "python",
   "pygments_lexer": "ipython3",
   "version": "3.8.8"
  }
 },
 "nbformat": 4,
 "nbformat_minor": 4
}
