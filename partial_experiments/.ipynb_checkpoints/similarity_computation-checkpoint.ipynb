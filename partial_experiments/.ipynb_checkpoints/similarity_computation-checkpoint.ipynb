{
 "cells": [
  {
   "cell_type": "code",
   "execution_count": 1,
   "metadata": {},
   "outputs": [],
   "source": [
    "import scipy as sp\n",
    "import nltk\n",
    "import numpy as np\n",
    "import pandas as pd\n",
    "import re\n",
    "from scipy import spatial"
   ]
  },
  {
   "cell_type": "code",
   "execution_count": null,
   "metadata": {},
   "outputs": [],
   "source": [
    "def compute_similarity(labels,predicted,target):\n",
    "    results = pd.DataFrame(columns=['actual','predicted'])\n",
    "    p = predicted['embedding']\n",
    "    l = labels['embedding']\n",
    "    for i in range(len(predicted)):\n",
    "        print(\"=====================\")\n",
    "        s = len(results)\n",
    "        p[i] = p[i].tolist()\n",
    "        results.loc[s,'actual']=target[i]\n",
    "        for j in range(len(labels)):\n",
    "            print(\"Computing similarity with: \",labels.loc[j,'word'])\n",
    "            print(\"Actual value: \",target[i])\n",
    "            print(1-spatial.distance.cosine(p[i],l[j].tolist()))\n",
    "            "
   ]
  }
 ],
 "metadata": {
  "kernelspec": {
   "display_name": "Python 3",
   "language": "python",
   "name": "python3"
  },
  "language_info": {
   "codemirror_mode": {
    "name": "ipython",
    "version": 3
   },
   "file_extension": ".py",
   "mimetype": "text/x-python",
   "name": "python",
   "nbconvert_exporter": "python",
   "pygments_lexer": "ipython3",
   "version": "3.8.8"
  }
 },
 "nbformat": 4,
 "nbformat_minor": 4
}
