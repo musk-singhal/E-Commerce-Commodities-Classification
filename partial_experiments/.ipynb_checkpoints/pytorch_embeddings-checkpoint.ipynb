{
 "cells": [
  {
   "cell_type": "code",
   "execution_count": 1,
   "metadata": {},
   "outputs": [
    {
     "data": {
      "text/plain": [
       "<torch._C.Generator at 0x7fcdd3a7c8d0>"
      ]
     },
     "execution_count": 1,
     "metadata": {},
     "output_type": "execute_result"
    }
   ],
   "source": [
    "import torch\n",
    "import torch.nn as nn\n",
    "import torch.nn.functional as F\n",
    "import torch.optim as optim\n",
    "\n",
    "torch.manual_seed(1)"
   ]
  },
  {
   "cell_type": "code",
   "execution_count": null,
   "metadata": {},
   "outputs": [],
   "source": [
    "def pytorch_cat_embeddings(cat):\n",
    "    cat = set(cat)\n",
    "    cat_dict = {word: i for i, word in enumerate(cat)}\n",
    "    embeds = nn.Embedding(len(cat_dict), 5)\n",
    "    for i in range(len(cat_dict)):\n",
    "        print([cat_dict[\"home furnishing\"]])\n",
    "        lookup_tensor = torch.tensor([i], dtype=torch.long)\n",
    "        embed = embeds(lookup_tensor)\n",
    "        print(embed)\n",
    "    #print(cat_dict)\n",
    "    return cat_dict"
   ]
  }
 ],
 "metadata": {
  "kernelspec": {
   "display_name": "Python 3",
   "language": "python",
   "name": "python3"
  },
  "language_info": {
   "codemirror_mode": {
    "name": "ipython",
    "version": 3
   },
   "file_extension": ".py",
   "mimetype": "text/x-python",
   "name": "python",
   "nbconvert_exporter": "python",
   "pygments_lexer": "ipython3",
   "version": "3.8.8"
  }
 },
 "nbformat": 4,
 "nbformat_minor": 4
}
