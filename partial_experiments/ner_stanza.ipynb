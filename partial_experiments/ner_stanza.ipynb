{
 "cells": [
  {
   "cell_type": "code",
   "execution_count": 2,
   "metadata": {},
   "outputs": [],
   "source": [
    "import stanza\n",
    "import numpy as np\n",
    "import pandas as pd\n",
    "import re"
   ]
  },
  {
   "cell_type": "code",
   "execution_count": null,
   "metadata": {},
   "outputs": [],
   "source": [
    "def stanza_recognize_entities(text):\n",
    "    stanza.download('en')\n",
    "    nlp = stanza.Pipeline(lang='en', processors='tokenize,ner')\n",
    "    doc = nlp(text)\n",
    "    t=[]\n",
    "    l=[]\n",
    "    for sent in doc.sentences:\n",
    "        for ent in sent.ents:\n",
    "            t.append(ent.text)\n",
    "            l.append(ent.type)\n",
    "    print(\"TOKENs: \",t)\n",
    "    print(\"LABELS: \",l)\n",
    "    return t"
   ]
  },
  {
   "cell_type": "code",
   "execution_count": null,
   "metadata": {},
   "outputs": [],
   "source": [
    "def stanza_main(df):\n",
    "    for i in range(len(df)):\n",
    "        text = df.loc[i,'lem_ws_description']\n",
    "        result = stanza_recognize_entities(text)\n",
    "        print(result)"
   ]
  }
 ],
 "metadata": {
  "kernelspec": {
   "display_name": "Python 3",
   "language": "python",
   "name": "python3"
  },
  "language_info": {
   "codemirror_mode": {
    "name": "ipython",
    "version": 3
   },
   "file_extension": ".py",
   "mimetype": "text/x-python",
   "name": "python",
   "nbconvert_exporter": "python",
   "pygments_lexer": "ipython3",
   "version": "3.8.8"
  }
 },
 "nbformat": 4,
 "nbformat_minor": 4
}
